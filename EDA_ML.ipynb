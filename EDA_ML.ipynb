{
 "cells": [
  {
   "cell_type": "markdown",
   "metadata": {},
   "source": [
    "## Xiao Hong Shu KOC data EDA\n",
    "\n",
    "All the data here is cleaned by `clean.py`."
   ]
  },
  {
   "cell_type": "code",
   "execution_count": 55,
   "metadata": {},
   "outputs": [],
   "source": [
    "# Package Loading\n",
    "import pandas as pd \n",
    "import numpy as np\n",
    "import matplotlib.pyplot as plt\n",
    "import seaborn as sns\n",
    "import json\n",
    "import datetime\n",
    "import os\n",
    "%matplotlib inline"
   ]
  },
  {
   "cell_type": "code",
   "execution_count": 3,
   "metadata": {},
   "outputs": [],
   "source": [
    "# Load Data\n",
    "folder_paths = ['Data/1_c', 'Data/2_c/']\n",
    "file_names = ['content.json', 'creator.json']\n",
    "creators = []\n",
    "contents = []\n",
    "for folder in folder_paths:\n",
    "    for file in file_names:\n",
    "        file_path = os.path.join(folder, file)\n",
    "        df = pd.read_json(file_path)\n",
    "        if file == 'content.json':\n",
    "            contents.append(df)\n",
    "        else:\n",
    "            creators.append(df)\n",
    "creators_df = pd.concat(creators)\n",
    "contents_df = pd.concat(contents)"
   ]
  },
  {
   "cell_type": "code",
   "execution_count": 5,
   "metadata": {},
   "outputs": [
    {
     "data": {
      "text/plain": [
       "(9064, 21)"
      ]
     },
     "execution_count": 5,
     "metadata": {},
     "output_type": "execute_result"
    }
   ],
   "source": [
    "contents_df.shape"
   ]
  },
  {
   "cell_type": "code",
   "execution_count": 6,
   "metadata": {},
   "outputs": [
    {
     "data": {
      "text/plain": [
       "(67, 11)"
      ]
     },
     "execution_count": 6,
     "metadata": {},
     "output_type": "execute_result"
    }
   ],
   "source": [
    "creators_df.shape"
   ]
  },
  {
   "cell_type": "code",
   "execution_count": 7,
   "metadata": {},
   "outputs": [
    {
     "data": {
      "text/html": [
       "<div>\n",
       "<style scoped>\n",
       "    .dataframe tbody tr th:only-of-type {\n",
       "        vertical-align: middle;\n",
       "    }\n",
       "\n",
       "    .dataframe tbody tr th {\n",
       "        vertical-align: top;\n",
       "    }\n",
       "\n",
       "    .dataframe thead th {\n",
       "        text-align: right;\n",
       "    }\n",
       "</style>\n",
       "<table border=\"1\" class=\"dataframe\">\n",
       "  <thead>\n",
       "    <tr style=\"text-align: right;\">\n",
       "      <th></th>\n",
       "      <th>user_id</th>\n",
       "      <th>nickname</th>\n",
       "      <th>gender</th>\n",
       "      <th>avatar</th>\n",
       "      <th>desc</th>\n",
       "      <th>ip_location</th>\n",
       "      <th>follows</th>\n",
       "      <th>fans</th>\n",
       "      <th>interaction</th>\n",
       "      <th>tag_list</th>\n",
       "      <th>last_modify_ts</th>\n",
       "    </tr>\n",
       "  </thead>\n",
       "  <tbody>\n",
       "    <tr>\n",
       "      <th>0</th>\n",
       "      <td>564d4a9167bc65539cd768d4</td>\n",
       "      <td>安妮Annie</td>\n",
       "      <td>女</td>\n",
       "      <td>https://sns-avatar-qc.xhscdn.com/avatar/64a6ea...</td>\n",
       "      <td>Shanghai｜Dallas</td>\n",
       "      <td></td>\n",
       "      <td>46</td>\n",
       "      <td>1116</td>\n",
       "      <td>3999</td>\n",
       "      <td>{\"info\": \"40岁\", \"location\": \"美国\"}</td>\n",
       "      <td>1742265522378</td>\n",
       "    </tr>\n",
       "    <tr>\n",
       "      <th>1</th>\n",
       "      <td>576d3bde82ec3952ff40c5e1</td>\n",
       "      <td>达拉斯小鸡腿</td>\n",
       "      <td>女</td>\n",
       "      <td>https://sns-avatar-qc.xhscdn.com/avatar/61df4c...</td>\n",
       "      <td>慢慢了解世界，慢慢更新自己\\n吃喝玩乐+宝宝们，随心分享\\n佛系更新中～比心🫰</td>\n",
       "      <td>美国</td>\n",
       "      <td>837</td>\n",
       "      <td>1653</td>\n",
       "      <td>11636</td>\n",
       "      <td>{\"info\": null, \"location\": \"美国\", \"profession\":...</td>\n",
       "      <td>1741740734045</td>\n",
       "    </tr>\n",
       "    <tr>\n",
       "      <th>2</th>\n",
       "      <td>58b325ce50c4b442ae017a30</td>\n",
       "      <td>小温柔Sylvia</td>\n",
       "      <td>女</td>\n",
       "      <td>https://sns-avatar-qc.xhscdn.com/avatar/1040g2...</td>\n",
       "      <td>北京🇨🇳→ 达拉斯🇺🇸\\n163cm ♋巨蟹座 乐观开朗 \\nIG: sylviviishe...</td>\n",
       "      <td>美国</td>\n",
       "      <td>961</td>\n",
       "      <td>304</td>\n",
       "      <td>10699</td>\n",
       "      <td>{\"info\": null, \"location\": \"北京海淀\"}</td>\n",
       "      <td>1741746441631</td>\n",
       "    </tr>\n",
       "    <tr>\n",
       "      <th>3</th>\n",
       "      <td>5c0c067c0000000005022f0a</td>\n",
       "      <td>茄茄公主 🍆</td>\n",
       "      <td>女</td>\n",
       "      <td>https://sns-avatar-qc.xhscdn.com/avatar/1040g2...</td>\n",
       "      <td>坐标 达拉斯 美国🇺🇸 来美14 年 家庭成员： 三只毛小孩🐶 喜欢旅游 和探索各地美食🥰</td>\n",
       "      <td>美国</td>\n",
       "      <td>251</td>\n",
       "      <td>258</td>\n",
       "      <td>3607</td>\n",
       "      <td>{\"info\": \"35岁\", \"location\": \"UnitedStates\"}</td>\n",
       "      <td>1741747540369</td>\n",
       "    </tr>\n",
       "    <tr>\n",
       "      <th>4</th>\n",
       "      <td>5f03c93d000000000100466e</td>\n",
       "      <td>RAINA</td>\n",
       "      <td>女</td>\n",
       "      <td>https://sns-avatar-qc.xhscdn.com/avatar/62d9a1...</td>\n",
       "      <td>美妆护肤｜日常v l o g｜育儿｜探店｜旅游\\n励志让每个关注我的女孩变得更漂亮更开心！\\...</td>\n",
       "      <td>美国</td>\n",
       "      <td>2013</td>\n",
       "      <td>2054</td>\n",
       "      <td>15093</td>\n",
       "      <td>{\"info\": \"金牛座\", \"location\": \"UnitedStates\", \"p...</td>\n",
       "      <td>1741908206891</td>\n",
       "    </tr>\n",
       "  </tbody>\n",
       "</table>\n",
       "</div>"
      ],
      "text/plain": [
       "                    user_id   nickname gender  \\\n",
       "0  564d4a9167bc65539cd768d4    安妮Annie      女   \n",
       "1  576d3bde82ec3952ff40c5e1     达拉斯小鸡腿      女   \n",
       "2  58b325ce50c4b442ae017a30  小温柔Sylvia      女   \n",
       "3  5c0c067c0000000005022f0a     茄茄公主 🍆      女   \n",
       "4  5f03c93d000000000100466e      RAINA      女   \n",
       "\n",
       "                                              avatar  \\\n",
       "0  https://sns-avatar-qc.xhscdn.com/avatar/64a6ea...   \n",
       "1  https://sns-avatar-qc.xhscdn.com/avatar/61df4c...   \n",
       "2  https://sns-avatar-qc.xhscdn.com/avatar/1040g2...   \n",
       "3  https://sns-avatar-qc.xhscdn.com/avatar/1040g2...   \n",
       "4  https://sns-avatar-qc.xhscdn.com/avatar/62d9a1...   \n",
       "\n",
       "                                                desc ip_location  follows  \\\n",
       "0                                    Shanghai｜Dallas                   46   \n",
       "1            慢慢了解世界，慢慢更新自己\\n吃喝玩乐+宝宝们，随心分享\\n佛系更新中～比心🫰          美国      837   \n",
       "2  北京🇨🇳→ 达拉斯🇺🇸\\n163cm ♋巨蟹座 乐观开朗 \\nIG: sylviviishe...          美国      961   \n",
       "3      坐标 达拉斯 美国🇺🇸 来美14 年 家庭成员： 三只毛小孩🐶 喜欢旅游 和探索各地美食🥰          美国      251   \n",
       "4  美妆护肤｜日常v l o g｜育儿｜探店｜旅游\\n励志让每个关注我的女孩变得更漂亮更开心！\\...          美国     2013   \n",
       "\n",
       "   fans  interaction                                           tag_list  \\\n",
       "0  1116         3999                  {\"info\": \"40岁\", \"location\": \"美国\"}   \n",
       "1  1653        11636  {\"info\": null, \"location\": \"美国\", \"profession\":...   \n",
       "2   304        10699                 {\"info\": null, \"location\": \"北京海淀\"}   \n",
       "3   258         3607        {\"info\": \"35岁\", \"location\": \"UnitedStates\"}   \n",
       "4  2054        15093  {\"info\": \"金牛座\", \"location\": \"UnitedStates\", \"p...   \n",
       "\n",
       "   last_modify_ts  \n",
       "0   1742265522378  \n",
       "1   1741740734045  \n",
       "2   1741746441631  \n",
       "3   1741747540369  \n",
       "4   1741908206891  "
      ]
     },
     "execution_count": 7,
     "metadata": {},
     "output_type": "execute_result"
    }
   ],
   "source": [
    "creators_df.head()"
   ]
  },
  {
   "cell_type": "code",
   "execution_count": 8,
   "metadata": {},
   "outputs": [
    {
     "data": {
      "text/plain": [
       "gender\n",
       "女    58\n",
       "男     5\n",
       "Name: count, dtype: int64"
      ]
     },
     "execution_count": 8,
     "metadata": {},
     "output_type": "execute_result"
    }
   ],
   "source": [
    "creators_df.gender.value_counts()"
   ]
  },
  {
   "cell_type": "code",
   "execution_count": 24,
   "metadata": {},
   "outputs": [],
   "source": [
    "creators_df = creators_df.replace('',np.nan)\n",
    "creators_df = creators_df.replace('{}', np.nan)"
   ]
  },
  {
   "cell_type": "code",
   "execution_count": 26,
   "metadata": {},
   "outputs": [
    {
     "data": {
      "text/plain": [
       "user_id           0\n",
       "nickname          0\n",
       "gender            4\n",
       "avatar            0\n",
       "desc              1\n",
       "ip_location       4\n",
       "follows           0\n",
       "fans              0\n",
       "interaction       0\n",
       "tag_list          2\n",
       "last_modify_ts    0\n",
       "dtype: int64"
      ]
     },
     "execution_count": 26,
     "metadata": {},
     "output_type": "execute_result"
    }
   ],
   "source": [
    "creators_df.isna().sum()"
   ]
  },
  {
   "cell_type": "code",
   "execution_count": 25,
   "metadata": {},
   "outputs": [
    {
     "data": {
      "text/html": [
       "<div>\n",
       "<style scoped>\n",
       "    .dataframe tbody tr th:only-of-type {\n",
       "        vertical-align: middle;\n",
       "    }\n",
       "\n",
       "    .dataframe tbody tr th {\n",
       "        vertical-align: top;\n",
       "    }\n",
       "\n",
       "    .dataframe thead th {\n",
       "        text-align: right;\n",
       "    }\n",
       "</style>\n",
       "<table border=\"1\" class=\"dataframe\">\n",
       "  <thead>\n",
       "    <tr style=\"text-align: right;\">\n",
       "      <th></th>\n",
       "      <th>user_id</th>\n",
       "      <th>nickname</th>\n",
       "      <th>gender</th>\n",
       "      <th>avatar</th>\n",
       "      <th>desc</th>\n",
       "      <th>ip_location</th>\n",
       "      <th>follows</th>\n",
       "      <th>fans</th>\n",
       "      <th>interaction</th>\n",
       "      <th>tag_list</th>\n",
       "      <th>last_modify_ts</th>\n",
       "    </tr>\n",
       "  </thead>\n",
       "  <tbody>\n",
       "    <tr>\n",
       "      <th>10</th>\n",
       "      <td>663ab3fc0000000007005c31</td>\n",
       "      <td>朱迪日常</td>\n",
       "      <td>None</td>\n",
       "      <td>https://sns-avatar-qc.xhscdn.com/avatar/1040g2...</td>\n",
       "      <td>探店测评|好物分享\\n常驻Dalls TX ～</td>\n",
       "      <td>美国</td>\n",
       "      <td>21</td>\n",
       "      <td>189</td>\n",
       "      <td>2478</td>\n",
       "      <td>NaN</td>\n",
       "      <td>1742053971642</td>\n",
       "    </tr>\n",
       "    <tr>\n",
       "      <th>15</th>\n",
       "      <td>62f0659d000000001f015932</td>\n",
       "      <td>达拉斯幸福家Hannah</td>\n",
       "      <td>None</td>\n",
       "      <td>https://sns-avatar-qc.xhscdn.com/avatar/1040g2...</td>\n",
       "      <td>HannahRealtor</td>\n",
       "      <td>美国</td>\n",
       "      <td>276</td>\n",
       "      <td>1875</td>\n",
       "      <td>6475</td>\n",
       "      <td>{\"location\": \"UnitedStates\", \"profession\": \"家居...</td>\n",
       "      <td>1742080944296</td>\n",
       "    </tr>\n",
       "    <tr>\n",
       "      <th>0</th>\n",
       "      <td>67865b1a000000000803eeb0</td>\n",
       "      <td>Dallas Miranda</td>\n",
       "      <td>None</td>\n",
       "      <td>https://sns-avatar-qc.xhscdn.com/avatar/1040g2...</td>\n",
       "      <td>Ig &amp; YT: dallasmirandaklein \\nOver 400k friend...</td>\n",
       "      <td>NaN</td>\n",
       "      <td>3</td>\n",
       "      <td>7253</td>\n",
       "      <td>24271</td>\n",
       "      <td>NaN</td>\n",
       "      <td>1741678589024</td>\n",
       "    </tr>\n",
       "    <tr>\n",
       "      <th>19</th>\n",
       "      <td>6785e363000000000801d306</td>\n",
       "      <td>Styleindallas</td>\n",
       "      <td>None</td>\n",
       "      <td>https://sns-avatar-qc.xhscdn.com/avatar/1040g2...</td>\n",
       "      <td>Fashion, beauty , aesthetic 📸\\nMarried 💍\\nInst...</td>\n",
       "      <td>美国</td>\n",
       "      <td>32</td>\n",
       "      <td>246</td>\n",
       "      <td>6633</td>\n",
       "      <td>{\"location\": \"UnitedStates\"}</td>\n",
       "      <td>1741811076247</td>\n",
       "    </tr>\n",
       "  </tbody>\n",
       "</table>\n",
       "</div>"
      ],
      "text/plain": [
       "                     user_id        nickname gender  \\\n",
       "10  663ab3fc0000000007005c31            朱迪日常   None   \n",
       "15  62f0659d000000001f015932    达拉斯幸福家Hannah   None   \n",
       "0   67865b1a000000000803eeb0  Dallas Miranda   None   \n",
       "19  6785e363000000000801d306   Styleindallas   None   \n",
       "\n",
       "                                               avatar  \\\n",
       "10  https://sns-avatar-qc.xhscdn.com/avatar/1040g2...   \n",
       "15  https://sns-avatar-qc.xhscdn.com/avatar/1040g2...   \n",
       "0   https://sns-avatar-qc.xhscdn.com/avatar/1040g2...   \n",
       "19  https://sns-avatar-qc.xhscdn.com/avatar/1040g2...   \n",
       "\n",
       "                                                 desc ip_location  follows  \\\n",
       "10                            探店测评|好物分享\\n常驻Dalls TX ～          美国       21   \n",
       "15                                      HannahRealtor          美国      276   \n",
       "0   Ig & YT: dallasmirandaklein \\nOver 400k friend...         NaN        3   \n",
       "19  Fashion, beauty , aesthetic 📸\\nMarried 💍\\nInst...          美国       32   \n",
       "\n",
       "    fans  interaction                                           tag_list  \\\n",
       "10   189         2478                                                NaN   \n",
       "15  1875         6475  {\"location\": \"UnitedStates\", \"profession\": \"家居...   \n",
       "0   7253        24271                                                NaN   \n",
       "19   246         6633                       {\"location\": \"UnitedStates\"}   \n",
       "\n",
       "    last_modify_ts  \n",
       "10   1742053971642  \n",
       "15   1742080944296  \n",
       "0    1741678589024  \n",
       "19   1741811076247  "
      ]
     },
     "execution_count": 25,
     "metadata": {},
     "output_type": "execute_result"
    }
   ],
   "source": [
    "creators_df[creators_df.gender.isna()]"
   ]
  },
  {
   "cell_type": "code",
   "execution_count": 15,
   "metadata": {},
   "outputs": [
    {
     "data": {
      "text/plain": [
       "ip_location\n",
       "美国     61\n",
       "墨西哥     1\n",
       "浙江      1\n",
       "Name: count, dtype: int64"
      ]
     },
     "execution_count": 15,
     "metadata": {},
     "output_type": "execute_result"
    }
   ],
   "source": [
    "creators_df.ip_location.value_counts()"
   ]
  },
  {
   "cell_type": "code",
   "execution_count": 27,
   "metadata": {},
   "outputs": [
    {
     "data": {
      "image/png": "[encoded data removed]",
      "text/plain": [
       "<Figure size 640x480 with 1 Axes>"
      ]
     },
     "metadata": {},
     "output_type": "display_data"
    }
   ],
   "source": [
    "sns.histplot(data = creators_df, x = 'follows')\n",
    "plt.title('Followers Distribution');"
   ]
  },
  {
   "cell_type": "code",
   "execution_count": 28,
   "metadata": {},
   "outputs": [
    {
     "data": {
      "image/png": "[encoded data removed]",
      "text/plain": [
       "<Figure size 640x480 with 1 Axes>"
      ]
     },
     "metadata": {},
     "output_type": "display_data"
    }
   ],
   "source": [
    "sns.histplot(data = creators_df, x = 'fans')\n",
    "plt.title('Fans Distribution');"
   ]
  },
  {
   "cell_type": "code",
   "execution_count": 35,
   "metadata": {},
   "outputs": [
    {
     "data": {
      "text/html": [
       "<div>\n",
       "<style scoped>\n",
       "    .dataframe tbody tr th:only-of-type {\n",
       "        vertical-align: middle;\n",
       "    }\n",
       "\n",
       "    .dataframe tbody tr th {\n",
       "        vertical-align: top;\n",
       "    }\n",
       "\n",
       "    .dataframe thead th {\n",
       "        text-align: right;\n",
       "    }\n",
       "</style>\n",
       "<table border=\"1\" class=\"dataframe\">\n",
       "  <thead>\n",
       "    <tr style=\"text-align: right;\">\n",
       "      <th></th>\n",
       "      <th>follows</th>\n",
       "      <th>fans</th>\n",
       "      <th>interaction</th>\n",
       "      <th>last_modify_ts</th>\n",
       "      <th>fans_follows_ratio</th>\n",
       "    </tr>\n",
       "  </thead>\n",
       "  <tbody>\n",
       "    <tr>\n",
       "      <th>count</th>\n",
       "      <td>67.000000</td>\n",
       "      <td>67.000000</td>\n",
       "      <td>67.000000</td>\n",
       "      <td>6.700000e+01</td>\n",
       "      <td>67.000000</td>\n",
       "    </tr>\n",
       "    <tr>\n",
       "      <th>mean</th>\n",
       "      <td>560.492537</td>\n",
       "      <td>1368.716418</td>\n",
       "      <td>15374.731343</td>\n",
       "      <td>1.741954e+12</td>\n",
       "      <td>43.925596</td>\n",
       "    </tr>\n",
       "    <tr>\n",
       "      <th>std</th>\n",
       "      <td>701.205507</td>\n",
       "      <td>1777.105144</td>\n",
       "      <td>23479.149558</td>\n",
       "      <td>1.889935e+08</td>\n",
       "      <td>294.698376</td>\n",
       "    </tr>\n",
       "    <tr>\n",
       "      <th>min</th>\n",
       "      <td>3.000000</td>\n",
       "      <td>69.000000</td>\n",
       "      <td>1069.000000</td>\n",
       "      <td>1.741679e+12</td>\n",
       "      <td>0.179147</td>\n",
       "    </tr>\n",
       "    <tr>\n",
       "      <th>25%</th>\n",
       "      <td>121.500000</td>\n",
       "      <td>379.500000</td>\n",
       "      <td>4587.000000</td>\n",
       "      <td>1.741812e+12</td>\n",
       "      <td>0.918287</td>\n",
       "    </tr>\n",
       "    <tr>\n",
       "      <th>50%</th>\n",
       "      <td>307.000000</td>\n",
       "      <td>710.000000</td>\n",
       "      <td>8149.000000</td>\n",
       "      <td>1.741896e+12</td>\n",
       "      <td>2.250000</td>\n",
       "    </tr>\n",
       "    <tr>\n",
       "      <th>75%</th>\n",
       "      <td>815.000000</td>\n",
       "      <td>1632.000000</td>\n",
       "      <td>12880.000000</td>\n",
       "      <td>1.742072e+12</td>\n",
       "      <td>8.505155</td>\n",
       "    </tr>\n",
       "    <tr>\n",
       "      <th>max</th>\n",
       "      <td>3315.000000</td>\n",
       "      <td>8955.000000</td>\n",
       "      <td>147344.000000</td>\n",
       "      <td>1.742409e+12</td>\n",
       "      <td>2417.666667</td>\n",
       "    </tr>\n",
       "  </tbody>\n",
       "</table>\n",
       "</div>"
      ],
      "text/plain": [
       "           follows         fans    interaction  last_modify_ts  \\\n",
       "count    67.000000    67.000000      67.000000    6.700000e+01   \n",
       "mean    560.492537  1368.716418   15374.731343    1.741954e+12   \n",
       "std     701.205507  1777.105144   23479.149558    1.889935e+08   \n",
       "min       3.000000    69.000000    1069.000000    1.741679e+12   \n",
       "25%     121.500000   379.500000    4587.000000    1.741812e+12   \n",
       "50%     307.000000   710.000000    8149.000000    1.741896e+12   \n",
       "75%     815.000000  1632.000000   12880.000000    1.742072e+12   \n",
       "max    3315.000000  8955.000000  147344.000000    1.742409e+12   \n",
       "\n",
       "       fans_follows_ratio  \n",
       "count           67.000000  \n",
       "mean            43.925596  \n",
       "std            294.698376  \n",
       "min              0.179147  \n",
       "25%              0.918287  \n",
       "50%              2.250000  \n",
       "75%              8.505155  \n",
       "max           2417.666667  "
      ]
     },
     "execution_count": 35,
     "metadata": {},
     "output_type": "execute_result"
    }
   ],
   "source": [
    "creators_df.describe()"
   ]
  },
  {
   "cell_type": "code",
   "execution_count": 31,
   "metadata": {},
   "outputs": [
    {
     "data": {
      "image/png": "[encoded data removed]",
      "text/plain": [
       "<Figure size 640x480 with 1 Axes>"
      ]
     },
     "metadata": {},
     "output_type": "display_data"
    }
   ],
   "source": [
    "sns.histplot(data = creators_df, x = 'interaction')\n",
    "plt.title('interactions Distribution');"
   ]
  },
  {
   "cell_type": "code",
   "execution_count": 34,
   "metadata": {},
   "outputs": [
    {
     "data": {
      "image/png": "[encoded data removed]",
      "text/plain": [
       "<Figure size 640x480 with 1 Axes>"
      ]
     },
     "metadata": {},
     "output_type": "display_data"
    }
   ],
   "source": [
    "creators_df['fans_follows_ratio'] = creators_df.fans / creators_df.follows\n",
    "sns.histplot(data = creators_df, x = 'fans_follows_ratio', log_scale=True, bins = 10)\n",
    "plt.title('Fans Follows Ratio Distribution');"
   ]
  },
  {
   "cell_type": "code",
   "execution_count": 36,
   "metadata": {},
   "outputs": [
    {
     "data": {
      "text/html": [
       "<div>\n",
       "<style scoped>\n",
       "    .dataframe tbody tr th:only-of-type {\n",
       "        vertical-align: middle;\n",
       "    }\n",
       "\n",
       "    .dataframe tbody tr th {\n",
       "        vertical-align: top;\n",
       "    }\n",
       "\n",
       "    .dataframe thead th {\n",
       "        text-align: right;\n",
       "    }\n",
       "</style>\n",
       "<table border=\"1\" class=\"dataframe\">\n",
       "  <thead>\n",
       "    <tr style=\"text-align: right;\">\n",
       "      <th></th>\n",
       "      <th>note_id</th>\n",
       "      <th>type</th>\n",
       "      <th>title</th>\n",
       "      <th>desc</th>\n",
       "      <th>video_url</th>\n",
       "      <th>time</th>\n",
       "      <th>last_update_time</th>\n",
       "      <th>user_id</th>\n",
       "      <th>nickname</th>\n",
       "      <th>avatar</th>\n",
       "      <th>...</th>\n",
       "      <th>collected_count</th>\n",
       "      <th>comment_count</th>\n",
       "      <th>share_count</th>\n",
       "      <th>ip_location</th>\n",
       "      <th>image_list</th>\n",
       "      <th>tag_list</th>\n",
       "      <th>last_modify_ts</th>\n",
       "      <th>note_url</th>\n",
       "      <th>source_keyword</th>\n",
       "      <th>xsec_token</th>\n",
       "    </tr>\n",
       "  </thead>\n",
       "  <tbody>\n",
       "    <tr>\n",
       "      <th>0</th>\n",
       "      <td>67d0d605000000002903d86a</td>\n",
       "      <td>normal</td>\n",
       "      <td>有没有和我一样【吃茶三千】一喝一个不吱声的</td>\n",
       "      <td>连地址都不想写了[笑哭R]\\n虽然环境还不错，颜值也不错\\n但我感觉自己完全拔草了\\n尝了m...</td>\n",
       "      <td></td>\n",
       "      <td>1741739525000</td>\n",
       "      <td>2025-03-12 00:32:06</td>\n",
       "      <td>576d3bde82ec3952ff40c5e1</td>\n",
       "      <td>达拉斯小鸡腿</td>\n",
       "      <td>https://sns-avatar-qc.xhscdn.com/avatar/61df4c...</td>\n",
       "      <td>...</td>\n",
       "      <td>2</td>\n",
       "      <td>10</td>\n",
       "      <td>3</td>\n",
       "      <td>美国</td>\n",
       "      <td>http://sns-webpic-qc.xhscdn.com/202503120852/b...</td>\n",
       "      <td>达拉斯网红奶茶,达拉斯奶茶,达拉斯,达拉斯生活,达拉斯美食,达拉斯周边,达拉斯探店</td>\n",
       "      <td>1741740908175</td>\n",
       "      <td>https://www.xiaohongshu.com/explore/67d0d60500...</td>\n",
       "      <td></td>\n",
       "      <td>ABSpxxhbCOtTiDM1Z6Y5fFluSJE-UWXQzG6OX9Q9HAnE0=</td>\n",
       "    </tr>\n",
       "    <tr>\n",
       "      <th>1</th>\n",
       "      <td>67c8960f000000002503ff5f</td>\n",
       "      <td>normal</td>\n",
       "      <td>【达拉斯·玩】超治愈系手工体验！MUMU Garden</td>\n",
       "      <td>📍301 W Parker Rd #208[话题]#, Plano, TX 75023（快乐...</td>\n",
       "      <td></td>\n",
       "      <td>1741198863000</td>\n",
       "      <td>2025-03-05 18:21:04</td>\n",
       "      <td>576d3bde82ec3952ff40c5e1</td>\n",
       "      <td>达拉斯小鸡腿</td>\n",
       "      <td>https://sns-avatar-qc.xhscdn.com/avatar/61df4c...</td>\n",
       "      <td>...</td>\n",
       "      <td>23</td>\n",
       "      <td>7</td>\n",
       "      <td>37</td>\n",
       "      <td>美国</td>\n",
       "      <td>http://sns-webpic-qc.xhscdn.com/202503120852/7...</td>\n",
       "      <td>208,达拉斯生活,达拉斯探店,达拉斯,达拉斯吃喝玩乐,达拉斯手工,达拉斯周末,达拉斯周边,...</td>\n",
       "      <td>1741740908248</td>\n",
       "      <td>https://www.xiaohongshu.com/explore/67c8960f00...</td>\n",
       "      <td></td>\n",
       "      <td>AB3ke1aQNxQZscPaUXBq4LkbDVHt_mVF_w1f0UC8j-d40=</td>\n",
       "    </tr>\n",
       "    <tr>\n",
       "      <th>2</th>\n",
       "      <td>67b2c2f0000000002602e61d</td>\n",
       "      <td>normal</td>\n",
       "      <td>【达拉斯·吃】米其林推荐川菜主厨空降达拉斯？</td>\n",
       "      <td>📍2528 Old Denton Rd, Carrollton, TX 75006\\n听说米...</td>\n",
       "      <td></td>\n",
       "      <td>1739768560000</td>\n",
       "      <td>2025-02-17 15:09:01</td>\n",
       "      <td>576d3bde82ec3952ff40c5e1</td>\n",
       "      <td>达拉斯小鸡腿</td>\n",
       "      <td>https://sns-avatar-qc.xhscdn.com/avatar/61df4c...</td>\n",
       "      <td>...</td>\n",
       "      <td>80</td>\n",
       "      <td>38</td>\n",
       "      <td>155</td>\n",
       "      <td>美国</td>\n",
       "      <td>http://sns-webpic-qc.xhscdn.com/202503120852/f...</td>\n",
       "      <td>达拉斯美食,达拉斯生活,Texas,达拉斯,达拉斯周边美食,达拉斯探店,达拉斯川菜,carr...</td>\n",
       "      <td>1741740908264</td>\n",
       "      <td>https://www.xiaohongshu.com/explore/67b2c2f000...</td>\n",
       "      <td></td>\n",
       "      <td>ABG77tfdlwQLJhKRQTQZtoBD7ge1POM0Bh0jyYV3hPujo=</td>\n",
       "    </tr>\n",
       "    <tr>\n",
       "      <th>3</th>\n",
       "      <td>67a926770000000029011c49</td>\n",
       "      <td>normal</td>\n",
       "      <td>【达拉斯·吃】许留山这几碗糯唧唧绝了！</td>\n",
       "      <td>Hui Liu Shan\\n📍2540 Old Denton Rd Ste 310, Car...</td>\n",
       "      <td></td>\n",
       "      <td>1739138679000</td>\n",
       "      <td>2025-02-10 02:52:04</td>\n",
       "      <td>576d3bde82ec3952ff40c5e1</td>\n",
       "      <td>达拉斯小鸡腿</td>\n",
       "      <td>https://sns-avatar-qc.xhscdn.com/avatar/61df4c...</td>\n",
       "      <td>...</td>\n",
       "      <td>20</td>\n",
       "      <td>5</td>\n",
       "      <td>15</td>\n",
       "      <td>美国</td>\n",
       "      <td>http://sns-webpic-qc.xhscdn.com/202503120852/1...</td>\n",
       "      <td>达拉斯,德州,达拉斯美食,德州美食,达拉斯探店,达拉斯生活,许留山,达拉斯甜品,达拉斯网红甜...</td>\n",
       "      <td>1741740908290</td>\n",
       "      <td>https://www.xiaohongshu.com/explore/67a9267700...</td>\n",
       "      <td></td>\n",
       "      <td>ABtje6jsU3oGw8w-rSGTCria9hgCuQx2NWTEXz-ZMWbl8=</td>\n",
       "    </tr>\n",
       "    <tr>\n",
       "      <th>4</th>\n",
       "      <td>67a3d27600000000290360e3</td>\n",
       "      <td>normal</td>\n",
       "      <td>【达拉斯·喝】Frosty Fox奶茶礼盒开箱</td>\n",
       "      <td>大过年的没想到收到一个奶茶礼盒做开箱分享！新年快乐[大笑R]\\nFrosty Fox是一家从...</td>\n",
       "      <td></td>\n",
       "      <td>1738789494000</td>\n",
       "      <td>2025-02-06 00:57:09</td>\n",
       "      <td>576d3bde82ec3952ff40c5e1</td>\n",
       "      <td>达拉斯小鸡腿</td>\n",
       "      <td>https://sns-avatar-qc.xhscdn.com/avatar/61df4c...</td>\n",
       "      <td>...</td>\n",
       "      <td>4</td>\n",
       "      <td>4</td>\n",
       "      <td>2</td>\n",
       "      <td></td>\n",
       "      <td>http://sns-webpic-qc.xhscdn.com/202503120852/9...</td>\n",
       "      <td>达拉斯奶茶,达拉斯网红奶茶,达拉斯美食,德州美食,达拉斯生活,德州生活,frostyfox,...</td>\n",
       "      <td>1741740908312</td>\n",
       "      <td>https://www.xiaohongshu.com/explore/67a3d27600...</td>\n",
       "      <td></td>\n",
       "      <td>ABsKHG-EnljPoMxH2CQeHcuyEQPlnPONIeS2emRixO76o=</td>\n",
       "    </tr>\n",
       "  </tbody>\n",
       "</table>\n",
       "<p>5 rows × 21 columns</p>\n",
       "</div>"
      ],
      "text/plain": [
       "                    note_id    type                        title  \\\n",
       "0  67d0d605000000002903d86a  normal        有没有和我一样【吃茶三千】一喝一个不吱声的   \n",
       "1  67c8960f000000002503ff5f  normal  【达拉斯·玩】超治愈系手工体验！MUMU Garden   \n",
       "2  67b2c2f0000000002602e61d  normal       【达拉斯·吃】米其林推荐川菜主厨空降达拉斯？   \n",
       "3  67a926770000000029011c49  normal          【达拉斯·吃】许留山这几碗糯唧唧绝了！   \n",
       "4  67a3d27600000000290360e3  normal      【达拉斯·喝】Frosty Fox奶茶礼盒开箱   \n",
       "\n",
       "                                                desc video_url           time  \\\n",
       "0  连地址都不想写了[笑哭R]\\n虽然环境还不错，颜值也不错\\n但我感觉自己完全拔草了\\n尝了m...            1741739525000   \n",
       "1  📍301 W Parker Rd #208[话题]#, Plano, TX 75023（快乐...            1741198863000   \n",
       "2  📍2528 Old Denton Rd, Carrollton, TX 75006\\n听说米...            1739768560000   \n",
       "3  Hui Liu Shan\\n📍2540 Old Denton Rd Ste 310, Car...            1739138679000   \n",
       "4  大过年的没想到收到一个奶茶礼盒做开箱分享！新年快乐[大笑R]\\nFrosty Fox是一家从...            1738789494000   \n",
       "\n",
       "     last_update_time                   user_id nickname  \\\n",
       "0 2025-03-12 00:32:06  576d3bde82ec3952ff40c5e1   达拉斯小鸡腿   \n",
       "1 2025-03-05 18:21:04  576d3bde82ec3952ff40c5e1   达拉斯小鸡腿   \n",
       "2 2025-02-17 15:09:01  576d3bde82ec3952ff40c5e1   达拉斯小鸡腿   \n",
       "3 2025-02-10 02:52:04  576d3bde82ec3952ff40c5e1   达拉斯小鸡腿   \n",
       "4 2025-02-06 00:57:09  576d3bde82ec3952ff40c5e1   达拉斯小鸡腿   \n",
       "\n",
       "                                              avatar  ...  collected_count  \\\n",
       "0  https://sns-avatar-qc.xhscdn.com/avatar/61df4c...  ...                2   \n",
       "1  https://sns-avatar-qc.xhscdn.com/avatar/61df4c...  ...               23   \n",
       "2  https://sns-avatar-qc.xhscdn.com/avatar/61df4c...  ...               80   \n",
       "3  https://sns-avatar-qc.xhscdn.com/avatar/61df4c...  ...               20   \n",
       "4  https://sns-avatar-qc.xhscdn.com/avatar/61df4c...  ...                4   \n",
       "\n",
       "   comment_count  share_count  ip_location  \\\n",
       "0             10            3           美国   \n",
       "1              7           37           美国   \n",
       "2             38          155           美国   \n",
       "3              5           15           美国   \n",
       "4              4            2                \n",
       "\n",
       "                                          image_list  \\\n",
       "0  http://sns-webpic-qc.xhscdn.com/202503120852/b...   \n",
       "1  http://sns-webpic-qc.xhscdn.com/202503120852/7...   \n",
       "2  http://sns-webpic-qc.xhscdn.com/202503120852/f...   \n",
       "3  http://sns-webpic-qc.xhscdn.com/202503120852/1...   \n",
       "4  http://sns-webpic-qc.xhscdn.com/202503120852/9...   \n",
       "\n",
       "                                            tag_list last_modify_ts  \\\n",
       "0          达拉斯网红奶茶,达拉斯奶茶,达拉斯,达拉斯生活,达拉斯美食,达拉斯周边,达拉斯探店  1741740908175   \n",
       "1  208,达拉斯生活,达拉斯探店,达拉斯,达拉斯吃喝玩乐,达拉斯手工,达拉斯周末,达拉斯周边,...  1741740908248   \n",
       "2  达拉斯美食,达拉斯生活,Texas,达拉斯,达拉斯周边美食,达拉斯探店,达拉斯川菜,carr...  1741740908264   \n",
       "3  达拉斯,德州,达拉斯美食,德州美食,达拉斯探店,达拉斯生活,许留山,达拉斯甜品,达拉斯网红甜...  1741740908290   \n",
       "4  达拉斯奶茶,达拉斯网红奶茶,达拉斯美食,德州美食,达拉斯生活,德州生活,frostyfox,...  1741740908312   \n",
       "\n",
       "                                            note_url source_keyword  \\\n",
       "0  https://www.xiaohongshu.com/explore/67d0d60500...                  \n",
       "1  https://www.xiaohongshu.com/explore/67c8960f00...                  \n",
       "2  https://www.xiaohongshu.com/explore/67b2c2f000...                  \n",
       "3  https://www.xiaohongshu.com/explore/67a9267700...                  \n",
       "4  https://www.xiaohongshu.com/explore/67a3d27600...                  \n",
       "\n",
       "                                       xsec_token  \n",
       "0  ABSpxxhbCOtTiDM1Z6Y5fFluSJE-UWXQzG6OX9Q9HAnE0=  \n",
       "1  AB3ke1aQNxQZscPaUXBq4LkbDVHt_mVF_w1f0UC8j-d40=  \n",
       "2  ABG77tfdlwQLJhKRQTQZtoBD7ge1POM0Bh0jyYV3hPujo=  \n",
       "3  ABtje6jsU3oGw8w-rSGTCria9hgCuQx2NWTEXz-ZMWbl8=  \n",
       "4  ABsKHG-EnljPoMxH2CQeHcuyEQPlnPONIeS2emRixO76o=  \n",
       "\n",
       "[5 rows x 21 columns]"
      ]
     },
     "execution_count": 36,
     "metadata": {},
     "output_type": "execute_result"
    }
   ],
   "source": [
    "contents_df.head()"
   ]
  },
  {
   "cell_type": "code",
   "execution_count": 40,
   "metadata": {},
   "outputs": [
    {
     "data": {
      "image/png": "[encoded data removed]",
      "text/plain": [
       "<Figure size 640x480 with 1 Axes>"
      ]
     },
     "metadata": {},
     "output_type": "display_data"
    }
   ],
   "source": [
    "sns.histplot(contents_df.nickname.value_counts())\n",
    "plt.title('# of post Distribution');"
   ]
  },
  {
   "cell_type": "code",
   "execution_count": 41,
   "metadata": {},
   "outputs": [
    {
     "data": {
      "text/plain": [
       "type\n",
       "normal    7234\n",
       "video     1830\n",
       "Name: count, dtype: int64"
      ]
     },
     "execution_count": 41,
     "metadata": {},
     "output_type": "execute_result"
    }
   ],
   "source": [
    "contents_df.type.value_counts()"
   ]
  },
  {
   "cell_type": "code",
   "execution_count": 45,
   "metadata": {},
   "outputs": [],
   "source": [
    "video_ratio = contents_df.groupby(['nickname','type']).size().unstack().fillna(0).reset_index()\n",
    "video_ratio['video_ratio'] = video_ratio.video / (video_ratio.video + video_ratio.normal)"
   ]
  },
  {
   "cell_type": "code",
   "execution_count": 47,
   "metadata": {},
   "outputs": [
    {
     "data": {
      "image/png": "[encoded data removed]",
      "text/plain": [
       "<Figure size 640x480 with 1 Axes>"
      ]
     },
     "metadata": {},
     "output_type": "display_data"
    }
   ],
   "source": [
    "sns.histplot(video_ratio.video_ratio)\n",
    "plt.title('Video Ratio Distribution');"
   ]
  },
  {
   "cell_type": "code",
   "execution_count": 52,
   "metadata": {},
   "outputs": [],
   "source": [
    "creators_df = pd.merge(creators_df, video_ratio[['nickname', 'video_ratio', 'normal']], on = 'nickname')"
   ]
  },
  {
   "cell_type": "code",
   "execution_count": 53,
   "metadata": {},
   "outputs": [
    {
     "data": {
      "text/plain": [
       "<Axes: xlabel='video_ratio', ylabel='interaction'>"
      ]
     },
     "execution_count": 53,
     "metadata": {},
     "output_type": "execute_result"
    },
    {
     "data": {
      "image/png": "[encoded data removed]",
      "text/plain": [
       "<Figure size 640x480 with 1 Axes>"
      ]
     },
     "metadata": {},
     "output_type": "display_data"
    }
   ],
   "source": [
    "sns.scatterplot(data = creators_df, x = 'video_ratio', y = 'interaction')"
   ]
  },
  {
   "cell_type": "code",
   "execution_count": 54,
   "metadata": {},
   "outputs": [
    {
     "data": {
      "text/plain": [
       "Index(['note_id', 'type', 'title', 'desc', 'video_url', 'time',\n",
       "       'last_update_time', 'user_id', 'nickname', 'avatar', 'liked_count',\n",
       "       'collected_count', 'comment_count', 'share_count', 'ip_location',\n",
       "       'image_list', 'tag_list', 'last_modify_ts', 'note_url',\n",
       "       'source_keyword', 'xsec_token'],\n",
       "      dtype='object')"
      ]
     },
     "execution_count": 54,
     "metadata": {},
     "output_type": "execute_result"
    }
   ],
   "source": [
    "contents_df.columns"
   ]
  },
  {
   "cell_type": "code",
   "execution_count": 59,
   "metadata": {},
   "outputs": [],
   "source": [
    "contents_df['time'] = pd.to_datetime(contents_df.time, unit = 'ms')"
   ]
  },
  {
   "cell_type": "code",
   "execution_count": 60,
   "metadata": {},
   "outputs": [
    {
     "data": {
      "text/plain": [
       "count                             9064\n",
       "mean     2023-04-29 12:30:28.266548992\n",
       "min                2017-01-30 04:28:50\n",
       "25%      2022-05-01 19:22:37.750000128\n",
       "50%                2023-07-10 04:05:17\n",
       "75%         2024-06-06 12:01:48.500000\n",
       "max                2025-03-17 04:06:29\n",
       "Name: time, dtype: object"
      ]
     },
     "execution_count": 60,
     "metadata": {},
     "output_type": "execute_result"
    }
   ],
   "source": [
    "contents_df.time.describe()"
   ]
  },
  {
   "cell_type": "code",
   "execution_count": 64,
   "metadata": {},
   "outputs": [],
   "source": [
    "time_length = contents_df.groupby('nickname') \\\n",
    "    .agg(oldest = ('time', 'min'), newest = ('time', 'max')).reset_index()\n",
    "time_length['length'] = time_length.newest - time_length.oldest"
   ]
  },
  {
   "cell_type": "code",
   "execution_count": 66,
   "metadata": {},
   "outputs": [],
   "source": [
    "creators_df = pd.merge(creators_df, time_length[['nickname', 'length']], on = 'nickname')"
   ]
  },
  {
   "cell_type": "code",
   "execution_count": 67,
   "metadata": {},
   "outputs": [
    {
     "data": {
      "text/plain": [
       "<Axes: xlabel='length', ylabel='Count'>"
      ]
     },
     "execution_count": 67,
     "metadata": {},
     "output_type": "execute_result"
    },
    {
     "data": {
      "image/png": "[encoded data removed]",
      "text/plain": [
       "<Figure size 640x480 with 1 Axes>"
      ]
     },
     "metadata": {},
     "output_type": "display_data"
    }
   ],
   "source": [
    "sns.histplot(creators_df.length.dt.days)"
   ]
  },
  {
   "cell_type": "code",
   "execution_count": 72,
   "metadata": {},
   "outputs": [],
   "source": [
    "creators_df['length_day'] = creators_df.length.dt.days"
   ]
  },
  {
   "cell_type": "code",
   "execution_count": 73,
   "metadata": {},
   "outputs": [
    {
     "data": {
      "text/plain": [
       "<Axes: xlabel='length_day', ylabel='interaction'>"
      ]
     },
     "execution_count": 73,
     "metadata": {},
     "output_type": "execute_result"
    },
    {
     "data": {
      "image/png": "[encoded data removed]",
      "text/plain": [
       "<Figure size 640x480 with 1 Axes>"
      ]
     },
     "metadata": {},
     "output_type": "display_data"
    }
   ],
   "source": [
    "sns.scatterplot(data = creators_df, x = 'length_day', y = 'interaction')"
   ]
  }
 ],
 "metadata": {
  "kernelspec": {
   "display_name": "base",
   "language": "python",
   "name": "python3"
  },
  "language_info": {
   "codemirror_mode": {
    "name": "ipython",
    "version": 3
   },
   "file_extension": ".py",
   "mimetype": "text/x-python",
   "name": "python",
   "nbconvert_exporter": "python",
   "pygments_lexer": "ipython3",
   "version": "3.12.2"
  }
 },
 "nbformat": 4,
 "nbformat_minor": 2
}
